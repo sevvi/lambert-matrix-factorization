{
 "cells": [
  {
   "cell_type": "code",
   "execution_count": 94,
   "metadata": {},
   "outputs": [],
   "source": [
    "%matplotlib inline\n",
    "\n",
    "import autograd.numpy as np\n",
    "import autograd.numpy.random as npr\n",
    "from autograd import grad\n",
    "from autograd.extend import primitive, defvjp\n",
    "from autograd.misc.optimizers import adam\n",
    "from scipy.special import lambertw as lambertw_\n",
    "import matplotlib.pyplot as plt\n",
    "import scipy\n",
    "from scipy.stats import norm\n",
    "import autograd.scipy.stats.norm as gnorm\n",
    "\n",
    "npr.seed(100)"
   ]
  },
  {
   "cell_type": "code",
   "execution_count": 95,
   "metadata": {},
   "outputs": [],
   "source": [
    "lambertw = primitive(lambda x: lambertw_(x,0).real)\n",
    "defvjp(lambertw, \n",
    "           lambda ans, x: lambda g: g * ans/(x*(1+ans)),\n",
    "           None \n",
    "      )\n",
    "skewedlambertw = lambda x, skew : lambertw(skew * x)/skew"
   ]
  },
  {
   "cell_type": "code",
   "execution_count": 96,
   "metadata": {},
   "outputs": [
    {
     "data": {
      "image/png": "[encoded data removed]",
      "text/plain": [
       "<matplotlib.figure.Figure at 0x113144eb8>"
      ]
     },
     "metadata": {},
     "output_type": "display_data"
    }
   ],
   "source": [
    "# generate sample data\n",
    "z = np.random.normal(0.0, 1.0, size = 20000)\n",
    "loc = 0.\n",
    "scale = 1.\n",
    "x = np.linspace(norm.ppf(0.001, loc, scale), norm.ppf(0.999, loc, scale), 100)\n",
    "# plt.plot(x, norm.pdf(x, loc, scale), 'g-', lw=2, alpha=0.02)\n",
    "# plt.hist(z, 100, normed=True, alpha=0.02)\n",
    "\n",
    "skew = 0.2\n",
    "scale = 3\n",
    "loc = 1\n",
    "\n",
    "# skew the data with W_\\lambda(z) as forward transformation\n",
    "y = z * np.exp(skew * z) * scale + loc\n",
    "# unskew the data with $ye^(\\lambda y)$ as inverse transformation\n",
    "z_1 = skewedlambertw((y - loc)/scale, skew) * scale + loc\n",
    "\n",
    "loc = np.mean(z_1)\n",
    "scale = np.std(z_1)\n",
    "x = np.linspace(norm.ppf(0.001, loc, scale), norm.ppf(0.999, loc, scale), 100)\n",
    "plt.plot(x, norm.pdf(x, loc, scale), 'r-', lw=1, alpha=0.6)\n",
    "\n",
    "plt.hist(y, 100, normed=True, alpha=0.2)\n",
    "plt.hist(z_1, 100, normed=True, alpha=0.2)\n",
    "plt.show()"
   ]
  },
  {
   "cell_type": "code",
   "execution_count": 97,
   "metadata": {},
   "outputs": [
    {
     "data": {
      "image/png": "[encoded data removed]",
      "text/plain": [
       "<matplotlib.figure.Figure at 0x114d0def0>"
      ]
     },
     "metadata": {},
     "output_type": "display_data"
    }
   ],
   "source": [
    "def define_objective(y):\n",
    "    def objective(params, t):\n",
    "        loc, log_scale = params[0], params[1]\n",
    "        return -np.sum(gnorm.logpdf(y, loc, np.exp(log_scale))) \n",
    "    return objective\n",
    "\n",
    "objective = define_objective(z)\n",
    "gradient = grad(objective)\n",
    "init_params = np.array([1.,5.])\n",
    "final_params = adam(gradient, init_params, step_size=0.1, num_iters=500)\n",
    "\n",
    "loc = final_params[0]\n",
    "scale = np.exp(final_params[1])\n",
    "x = np.linspace(norm.ppf(0.001, loc, scale), norm.ppf(0.999, loc, scale), 100)\n",
    "plt.plot(x, norm.pdf(x, loc, scale), 'k-', lw=1, alpha=0.6, label='norm pdf')\n",
    "plt.hist(z, 100, normed=True, alpha=0.2)\n",
    "plt.show()"
   ]
  },
  {
   "cell_type": "code",
   "execution_count": null,
   "metadata": {},
   "outputs": [],
   "source": [
    "def unpack_params(params):\n",
    "    return params[0], params[1], params[2]\n",
    "#     return 1., np.log(3.), params[0]\n",
    "\n",
    "def lambertw_logpdf(y, params):\n",
    "    loc, log_scale, skew_ = unpack_params(params)\n",
    "    scale = np.exp(log_scale)\n",
    "    skew = 0.2/(1+np.exp(-skew_))\n",
    "    u = (y - loc)/scale\n",
    "    u_ = u*skew\n",
    "    W = lambertw(u_)\n",
    "    z = W/skew\n",
    "    jacobian = W/(u_*(1+W))\n",
    "    return gnorm.logpdf(z) + np.log(np.abs(jacobian)) - log_scale\n",
    "\n",
    "def define_objective(y):\n",
    "    def objective(params, t):\n",
    "        return -np.sum(lambertw_logpdf(y, params))\n",
    "    return objective\n",
    "\n",
    "init_params = np.array([0.,np.log(10),0])\n",
    "# init_params = np.array([-0.1])\n",
    "objective = define_objective(y)\n",
    "gradient = grad(objective)\n",
    "final_params = adam(gradient, init_params, step_size=0.1, num_iters=500)\n",
    "\n",
    "plt.plot(np.sort(y), np.exp(lambertw_logpdf(np.sort(y), final_params)), 'r-', lw=1, alpha=0.6)\n",
    "plt.hist(y, 100, normed=True, alpha=0.2)\n",
    "plt.show()"
   ]
  },
  {
   "cell_type": "code",
   "execution_count": 104,
   "metadata": {},
   "outputs": [
    {
     "data": {
      "text/plain": [
       "0.10000000000000001"
      ]
     },
     "execution_count": 104,
     "metadata": {},
     "output_type": "execute_result"
    }
   ],
   "source": [
    "0.2/(1 + np.exp(-1e-100))"
   ]
  },
  {
   "cell_type": "code",
   "execution_count": 89,
   "metadata": {},
   "outputs": [
    {
     "data": {
      "text/plain": [
       "0.20000000000000001"
      ]
     },
     "execution_count": 89,
     "metadata": {},
     "output_type": "execute_result"
    }
   ],
   "source": [
    "0.2/np.tanh(1000000)"
   ]
  },
  {
   "cell_type": "code",
   "execution_count": null,
   "metadata": {},
   "outputs": [],
   "source": []
  }
 ],
 "metadata": {
  "kernelspec": {
   "display_name": "Python 3",
   "language": "python",
   "name": "python3"
  },
  "language_info": {
   "codemirror_mode": {
    "name": "ipython",
    "version": 3
   },
   "file_extension": ".py",
   "mimetype": "text/x-python",
   "name": "python",
   "nbconvert_exporter": "python",
   "pygments_lexer": "ipython3",
   "version": "3.6.2"
  }
 },
 "nbformat": 4,
 "nbformat_minor": 2
}
