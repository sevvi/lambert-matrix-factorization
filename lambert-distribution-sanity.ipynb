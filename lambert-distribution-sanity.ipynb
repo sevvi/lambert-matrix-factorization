{
 "cells": [
  {
   "cell_type": "code",
   "execution_count": 1,
   "metadata": {},
   "outputs": [],
   "source": [
    "%matplotlib inline\n",
    "import numpy as np\n",
    "import numpy.random as npr\n",
    "import matplotlib.pyplot as plt\n",
    "from scipy.special import lambertw\n",
    "import tensorflow as tf\n",
    "from tensorflow.python.framework import ops\n",
    "from scipy.stats import norm"
   ]
  },
  {
   "cell_type": "code",
   "execution_count": 2,
   "metadata": {},
   "outputs": [],
   "source": [
    "ops.reset_default_graph()\n",
    "sess = tf.InteractiveSession()\n",
    "npr.seed(100)"
   ]
  },
  {
   "cell_type": "code",
   "execution_count": 31,
   "metadata": {},
   "outputs": [
    {
     "data": {
      "image/png": "[encoded data removed]",
      "text/plain": [
       "<matplotlib.figure.Figure at 0x114cc3eb8>"
      ]
     },
     "metadata": {},
     "output_type": "display_data"
    }
   ],
   "source": [
    "data = np.random.normal(0.0, 1.0, size= 50000)\n",
    "\n",
    "x = np.linspace(norm.ppf(0.001), norm.ppf(0.999), 100)\n",
    "plt.plot(x, norm.pdf(x), 'r-', lw=2, alpha=0.6, label='norm pdf')\n",
    "plt.hist(data - 10, 100, normed=True, alpha=0.2)\n",
    "\n",
    "lam = 0.3\n",
    "# skew the data with W_\\lambda() as forward transformation\n",
    "skewed_data = lambertw(lam * data, 0).real/lam\n",
    "# unskew the data with $ue^(\\lambda u)$ as inverse transformation\n",
    "unskewed_data = skewed_data * np.exp(lam * skewed_data)\n",
    "\n",
    "plt.hist(skewed_data, 100, normed=True, alpha=0.2)\n",
    "plt.hist(unskewed_data - 10, 100, normed=True, alpha=0.2)\n",
    "\n",
    "plt.show()"
   ]
  },
  {
   "cell_type": "code",
   "execution_count": null,
   "metadata": {},
   "outputs": [],
   "source": []
  }
 ],
 "metadata": {
  "kernelspec": {
   "display_name": "Python 3",
   "language": "python",
   "name": "python3"
  },
  "language_info": {
   "codemirror_mode": {
    "name": "ipython",
    "version": 3
   },
   "file_extension": ".py",
   "mimetype": "text/x-python",
   "name": "python",
   "nbconvert_exporter": "python",
   "pygments_lexer": "ipython3",
   "version": "3.6.2"
  }
 },
 "nbformat": 4,
 "nbformat_minor": 2
}
