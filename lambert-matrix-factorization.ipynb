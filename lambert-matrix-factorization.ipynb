{
 "cells": [
  {
   "cell_type": "code",
   "execution_count": 58,
   "metadata": {},
   "outputs": [],
   "source": [
    "%matplotlib inline\n",
    "\n",
    "import numpy as np\n",
    "import numpy.random as npr\n",
    "\n",
    "import autograd.numpy as anp\n",
    "from autograd import grad\n",
    "from autograd.extend import primitive, defvjp\n",
    "from autograd.misc.optimizers import adam\n",
    "from scipy.special import lambertw as lambertw_\n",
    "import matplotlib.pyplot as plt\n",
    "import scipy\n",
    "from scipy.stats import norm\n",
    "import autograd.scipy.stats.norm as gnorm\n",
    "\n",
    "npr.seed(100)"
   ]
  },
  {
   "cell_type": "code",
   "execution_count": 59,
   "metadata": {},
   "outputs": [],
   "source": [
    "lambertw = primitive(lambda x: lambertw_(x,0).real)\n",
    "defvjp(lambertw, \n",
    "           lambda ans, x: lambda g: g * ans/(x*(1+ans)),\n",
    "           None \n",
    "      )"
   ]
  },
  {
   "cell_type": "code",
   "execution_count": 60,
   "metadata": {},
   "outputs": [
    {
     "data": {
      "image/png": "[encoded data removed]",
      "text/plain": [
       "<matplotlib.figure.Figure at 0x10b8760b8>"
      ]
     },
     "metadata": {},
     "output_type": "display_data"
    }
   ],
   "source": [
    "# generate sample data\n",
    "N = 1000\n",
    "D = 10\n",
    "K = 50\n",
    "\n",
    "loc = 0.\n",
    "scale = 10.\n",
    "skew = -0.2\n",
    "theta = npr.randn(N,K)\n",
    "beta = npr.randn(D,K)\n",
    "# beta = npr.randn(npr.randn(0,10,D),size = D*K)\n",
    "z = np.matmul(theta, beta.T) + npr.randn(N,D)\n",
    "loc = np.mean(z)\n",
    "scale = np.std(z)\n",
    "\n",
    "u = (z - loc)/scale\n",
    "y = u * np.exp(skew * u) * scale + loc\n",
    "z_1 = lambertw((y - loc)/scale * skew)/skew * scale  + loc\n",
    "\n",
    "plt.hist(z.flatten(), 100, normed=True, alpha=0.2)\n",
    "plt.hist(y.flatten(), 100, normed=True, alpha=0.2)\n",
    "\n",
    "x = np.linspace(norm.ppf(0.001, loc, scale), norm.ppf(0.999, loc, scale), 100)\n",
    "plt.plot(x, norm.pdf(x, loc, scale), 'r-', lw=1, alpha=0.6)\n",
    "plt.show()"
   ]
  },
  {
   "cell_type": "code",
   "execution_count": 43,
   "metadata": {},
   "outputs": [],
   "source": [
    "# batch_size = 256\n",
    "# num_epochs = 5\n",
    "# step_size = 0.001\n",
    "# num_batches = int(np.ceil(len(train_images) / batch_size))\n",
    "\n",
    "# def batch_indices(it):\n",
    "#     idx = it % num_batches\n",
    "#     return slice(idx * batch_size, (idx+1) * batch_size)\n",
    "\n",
    "\n",
    "def logpdf(params, idx)\n",
    "def define_objective(y, batch_size = 100):\n",
    "    minibatch = 100\n",
    "    nbatches = y.shape[0] // minibatch\n",
    "    yb = np.array_split(y, nbatches)\n",
    "    def objective(params, t):\n",
    "        b = t % minibatch\n",
    "        loc, log_scale = params[0], params[1]\n",
    "        return -np.sum(gnorm.logpdf(y, loc, np.exp(log_scale))) \n",
    "    return objective\n",
    "\n",
    "\n",
    "\n",
    "# objective = define_objective(z)\n",
    "# gradient = grad(objective)\n",
    "# init_params = np.array([1.,5.])\n",
    "# final_params = adam(gradient, init_params, step_size=0.1, num_iters=100)\n",
    "\n",
    "# loc = final_params[0]\n",
    "# scale = np.exp(final_params[1])\n",
    "# x = np.linspace(norm.ppf(0.001, loc, scale), norm.ppf(0.999, loc, scale), 100)\n",
    "# plt.plot(x, norm.pdf(x, loc, scale), 'k-', lw=1, alpha=0.6, label='norm pdf')\n",
    "# plt.hist(z, 100, normed=True, alpha=0.2)\n",
    "# plt.show()"
   ]
  },
  {
   "cell_type": "code",
   "execution_count": 57,
   "metadata": {},
   "outputs": [
    {
     "ename": "AttributeError",
     "evalue": "module 'numpy' has no attribute 'split_array'",
     "output_type": "error",
     "traceback": [
      "\u001b[0;31m---------------------------------------------------------------------------\u001b[0m",
      "\u001b[0;31mAttributeError\u001b[0m                            Traceback (most recent call last)",
      "\u001b[0;32m<ipython-input-57-1c255662c68c>\u001b[0m in \u001b[0;36m<module>\u001b[0;34m()\u001b[0m\n\u001b[0;32m----> 1\u001b[0;31m \u001b[0mnp\u001b[0m\u001b[0;34m.\u001b[0m\u001b[0msplit_array\u001b[0m\u001b[0;34m\u001b[0m\u001b[0m\n\u001b[0m",
      "\u001b[0;31mAttributeError\u001b[0m: module 'numpy' has no attribute 'split_array'"
     ]
    }
   ],
   "source": [
    "np.split_array"
   ]
  },
  {
   "cell_type": "code",
   "execution_count": 42,
   "metadata": {},
   "outputs": [
    {
     "data": {
      "text/plain": [
       "array([-22.47119153, -22.01546775, -21.55974397, -21.10402019,\n",
       "       -20.64829642, -20.19257264, -19.73684886, -19.28112508,\n",
       "       -18.8254013 , -18.36967753, -17.91395375, -17.45822997,\n",
       "       -17.00250619, -16.54678241, -16.09105864, -15.63533486,\n",
       "       -15.17961108, -14.7238873 , -14.26816352, -13.81243975,\n",
       "       -13.35671597, -12.90099219, -12.44526841, -11.98954464,\n",
       "       -11.53382086, -11.07809708, -10.6223733 , -10.16664952,\n",
       "        -9.71092575,  -9.25520197,  -8.79947819,  -8.34375441,\n",
       "        -7.88803063,  -7.43230686,  -6.97658308,  -6.5208593 ,\n",
       "        -6.06513552,  -5.60941175,  -5.15368797,  -4.69796419,\n",
       "        -4.24224041,  -3.78651663,  -3.33079286,  -2.87506908,\n",
       "        -2.4193453 ,  -1.96362152,  -1.50789774,  -1.05217397,\n",
       "        -0.59645019,  -0.14072641,   0.31499737,   0.77072114,\n",
       "         1.22644492,   1.6821687 ,   2.13789248,   2.59361626,\n",
       "         3.04934003,   3.50506381,   3.96078759,   4.41651137,\n",
       "         4.87223515,   5.32795892,   5.7836827 ,   6.23940648,\n",
       "         6.69513026,   7.15085404,   7.60657781,   8.06230159,\n",
       "         8.51802537,   8.97374915,   9.42947292,   9.8851967 ,\n",
       "        10.34092048,  10.79664426,  11.25236804,  11.70809181,\n",
       "        12.16381559,  12.61953937,  13.07526315,  13.53098693,\n",
       "        13.9867107 ,  14.44243448,  14.89815826,  15.35388204,\n",
       "        15.80960581,  16.26532959,  16.72105337,  17.17677715,\n",
       "        17.63250093,  18.0882247 ,  18.54394848,  18.99967226,\n",
       "        19.45539604,  19.91111982,  20.36684359,  20.82256737,\n",
       "        21.27829115,  21.73401493,  22.1897387 ,  22.64546248])"
      ]
     },
     "execution_count": 42,
     "metadata": {},
     "output_type": "execute_result"
    }
   ],
   "source": [
    "x"
   ]
  },
  {
   "cell_type": "code",
   "execution_count": 56,
   "metadata": {},
   "outputs": [
    {
     "data": {
      "image/png": "[encoded data removed]",
      "text/plain": [
       "<matplotlib.figure.Figure at 0x10ab995f8>"
      ]
     },
     "metadata": {},
     "output_type": "display_data"
    }
   ],
   "source": [
    "plt.imshow(z, cmap='hot', interpolation='nearest', aspect = 'auto')\n",
    "plt.show()"
   ]
  },
  {
   "cell_type": "code",
   "execution_count": 47,
   "metadata": {},
   "outputs": [
    {
     "data": {
      "text/plain": [
       "(1000, 10)"
      ]
     },
     "execution_count": 47,
     "metadata": {},
     "output_type": "execute_result"
    }
   ],
   "source": [
    "z.shape"
   ]
  },
  {
   "cell_type": "code",
   "execution_count": null,
   "metadata": {},
   "outputs": [],
   "source": []
  }
 ],
 "metadata": {
  "kernelspec": {
   "display_name": "Python 3",
   "language": "python",
   "name": "python3"
  },
  "language_info": {
   "codemirror_mode": {
    "name": "ipython",
    "version": 3
   },
   "file_extension": ".py",
   "mimetype": "text/x-python",
   "name": "python",
   "nbconvert_exporter": "python",
   "pygments_lexer": "ipython3",
   "version": "3.6.2"
  }
 },
 "nbformat": 4,
 "nbformat_minor": 2
}
