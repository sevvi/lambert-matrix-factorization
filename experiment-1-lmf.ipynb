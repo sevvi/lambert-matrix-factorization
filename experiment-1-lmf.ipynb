{
 "cells": [
  {
   "cell_type": "code",
   "execution_count": 14,
   "metadata": {},
   "outputs": [],
   "source": [
    "%matplotlib inline\n",
    "\n",
    "import autograd.numpy.random as npr\n",
    "import autograd.numpy as np\n",
    "from autograd import grad\n",
    "from autograd.extend import primitive, defvjp\n",
    "from autograd.misc.optimizers import adam\n",
    "import scipy.special.lambertw as lambertw_\n",
    "import autograd.scipy.stats.norm as norm\n",
    "import matplotlib.pyplot as plt"
   ]
  },
  {
   "cell_type": "code",
   "execution_count": 15,
   "metadata": {},
   "outputs": [],
   "source": [
    "lambertw = primitive(lambda x: lambertw_(x, 0).real)\n",
    "defvjp(lambertw, \n",
    "        lambda ans, x: lambda g: g * 1./ (x + np.exp(ans)),\n",
    "        None \n",
    "      )\n",
    "def slambertw_logpdf_(y, loc, scale, skew, tol = 0.8):\n",
    "    u = (y - loc)/scale\n",
    "    if skew != 0:\n",
    "        cutoff = - tol /(np.e * skew)\n",
    "        cond = u >= cutoff if skew < 0 else u <= cutoff\n",
    "        utmp = np.where(cond, cutoff, u)\n",
    "        wc = lambertw(skew * utmp)\n",
    "        gc = 1./(np.exp(wc) + skew*utmp)\n",
    "        z = np.where(cond, wc/skew + (u - cutoff) * gc, wc/skew)\n",
    "        return norm.logpdf(z) + np.log(gc) - np.log(scale)\n",
    "    else:\n",
    "        return norm.logpdf(u) - np.log(scale)"
   ]
  },
  {
   "cell_type": "code",
   "execution_count": 16,
   "metadata": {},
   "outputs": [
    {
     "name": "stdout",
     "output_type": "stream",
     "text": [
      "-96.716875986\n",
      "-0.87836736277\n",
      "-0.878502945211\n"
     ]
    }
   ],
   "source": [
    "from autograd.test_util import check_grads\n",
    "\n",
    "x = np.linspace(-3,3,20)\n",
    "obj = lambda y, loc, scale, skew: np.sum(slambertw_logpdf_(y, loc, scale, skew))\n",
    "\n",
    "print(obj(x, 0., 1., 0.2))\n",
    "g = grad(obj)\n",
    "# check grad\n",
    "print(g(1., 0., 1., 0.2))\n",
    "print((obj(1., 0., 1., 0.2) - obj(1.001, 0., 1., 0.2))/-0.001)"
   ]
  },
  {
   "cell_type": "code",
   "execution_count": 17,
   "metadata": {},
   "outputs": [],
   "source": [
    "# generate sample data\n",
    "N = 1000\n",
    "D = 100\n",
    "K = 5\n",
    "npr.seed(100)\n",
    "scale = 1.\n",
    "skew = 0.05\n",
    "theta_o = theta = npr.randn(N,K) \n",
    "beta_o = beta = npr.randn(D,K)\n",
    "loc = np.matmul(theta, beta.T)\n",
    "u = npr.randn(N,D)\n",
    "y = u * np.exp(skew * u) * scale + loc"
   ]
  },
  {
   "cell_type": "code",
   "execution_count": 18,
   "metadata": {},
   "outputs": [],
   "source": [
    "def make_lambertw_routines(y, skew_function, learn = True, fixed_skew = 0.1):\n",
    "    def unpack_params(params):\n",
    "        theta = np.reshape(params[:(N*K)], [N, K])\n",
    "        beta = np.reshape(params[(N*K):-1], [D, K])\n",
    "        skew = skew_function(params[-1]) if learn else fixed_skew\n",
    "        return theta, beta, skew\n",
    "    \n",
    "    slambertw_logpdf = lambda loc, scale, skew: slambertw_logpdf_(y, loc, scale, skew, 0.9)\n",
    "\n",
    "    def objective(params, t):\n",
    "        theta, beta, skew = unpack_params(params)\n",
    "        loc = np.matmul(theta, beta.T)\n",
    "        return -np.sum(slambertw_logpdf(loc, 1., skew))\n",
    "    \n",
    "    return objective, slambertw_logpdf, unpack_params"
   ]
  },
  {
   "cell_type": "code",
   "execution_count": 25,
   "metadata": {},
   "outputs": [
    {
     "name": "stdout",
     "output_type": "stream",
     "text": [
      "138610.1649323281 0.057066179354 2.93475914253 165.7767479381\n"
     ]
    }
   ],
   "source": [
    "skews = np.linspace(-0.2, 0.2, 9)\n",
    "logpdfs = np.copy(skews)\n",
    "\n",
    "skew_tanh = lambda skew: 0.2 * np.tanh(1e-1 * skew)\n",
    "skew_identity = lambda skew: skew\n",
    "\n",
    "def callback(params, i, g):\n",
    "    if not i%100: print(i, objective(params, 0), skew_tanh(params[-1]), params[-1], np.sum(params[:-1]), end ='\\r')\n",
    "\n",
    "# learn thetas and betas for fixed skews \n",
    "for i,s in enumerate(skews): \n",
    "    npr.seed(200)\n",
    "    theta_n = npr.randn(N,K) \n",
    "    beta_n = npr.randn(D,K) \n",
    "    init_params = np.concatenate([theta_n.flatten(),beta_n.flatten(),np.array([-0.001])])\n",
    "    objective, _, unpack_params = make_lambertw_routines(y, skew_identity, False, s)\n",
    "    gradient = grad(objective)\n",
    "    final_params = adam(gradient, init_params, step_size=0.1, num_iters=1000, callback = callback)\n",
    "    logpdfs[i] = objective(final_params, 0)\n",
    "\n",
    " # learn thetas, betas along with the skew, for verifiying if the learnt skew is correct. \n",
    "npr.seed(200)\n",
    "theta_n = npr.randn(N,K) \n",
    "beta_n = npr.randn(D,K) \n",
    "init_params = np.concatenate([theta_n.flatten(),beta_n.flatten(),np.array([-0.001])])\n",
    "objective, _, unpack_params = make_lambertw_routines(y, skew_tanh)\n",
    "gradient = grad(objective)\n",
    "final_params = adam(gradient, init_params, step_size=0.1, num_iters=1000, callback = callback)\n",
    "print(objective(final_params, 0))\n",
    "inf_logpdf = objective(final_params, 0)\n",
    "_, _, inf_skew = unpack_params(final_params)\n",
    "\n",
    "# # Inference ends here. \n"
   ]
  },
  {
   "cell_type": "code",
   "execution_count": 34,
   "metadata": {},
   "outputs": [
    {
     "data": {
      "image/png": "[encoded data removed]",
      "text/plain": [
       "<matplotlib.figure.Figure at 0x113d8e710>"
      ]
     },
     "metadata": {},
     "output_type": "display_data"
    }
   ],
   "source": [
    "plt.plot(skews, logpdfs, 'r-', inf_skew, inf_logpdf, 'bs', lw=1, alpha=0.6)\n",
    "plt.show()"
   ]
  },
  {
   "cell_type": "code",
   "execution_count": 26,
   "metadata": {},
   "outputs": [],
   "source": [
    "# def slambertw_logpdf_(y, loc, scale, skew, tol = 0.8):\n",
    "#     u = (y - loc)/scale\n",
    "#     if skew != 0:\n",
    "#         cutoff = - tol * 1/(np.e * skew)\n",
    "#         cond = u >= cutoff if skew < 0 else u <= cutoff\n",
    "#         wc = lambertw(skew*u)\n",
    "#         gc = 1./(np.exp(wc) + skew*u)\n",
    "#         z = wc/skew\n",
    "        \n",
    "#         wc[cond] = wtmp = lambertw(skew * cutoff)\n",
    "#         gc[cond] = 1./(np.exp(wtmp) + skew*cutoff)\n",
    "#         z[cond] = wc[cond]/skew + (u[cond] - cutoff) * gc[cond]\n",
    "        \n",
    "#         return norm.logpdf(z) + np.log(gc) - np.log(scale)\n",
    "#     else:\n",
    "#         return norm.logpdf(u) - np.log(scale)\n",
    "#def slambertw_(x, skew):\n",
    "#     cutoff = - 0.9 * 1/(np.e * skew)\n",
    "#     cond = x >= cutoff if skew < 0 else x <= cutoff\n",
    "#     wc = lambertw(skew * cutoff)\n",
    "#     gc = 1. / (np.exp(wc) + skew*cutoff)\n",
    "#     z = lambertw(skew*x)/skew\n",
    "#     z[cond] = wc/skew + (x[cond] - cutoff) * gc\n",
    "#     return z\n",
    "\n",
    "# def lambertw_logpdf_(y, loc, scale, skew):\n",
    "#     u = (y - loc)/scale\n",
    "#     if skew != 0:\n",
    "#         wc = lambertw(skew*u)\n",
    "#         gc = 1./(np.exp(wc) + skew*u)\n",
    "#         z = wc/skew\n",
    "# #         return norm.logpdf(z) + np.log(gc) - np.log(scale)\n",
    "#         return gc\n",
    "#     else:\n",
    "#         return norm.logpdf(u) - np.log(scale)"
   ]
  },
  {
   "cell_type": "code",
   "execution_count": 27,
   "metadata": {},
   "outputs": [],
   "source": [
    "lambertw = primitive(lambda x: lambertw_(x, 0).real)\n",
    "defvjp(lambertw, \n",
    "        lambda ans, x: lambda g: g * 1./ (x + np.exp(ans)),\n",
    "        None \n",
    "      )"
   ]
  },
  {
   "cell_type": "code",
   "execution_count": null,
   "metadata": {},
   "outputs": [],
   "source": []
  }
 ],
 "metadata": {
  "kernelspec": {
   "display_name": "Python 3",
   "language": "python",
   "name": "python3"
  },
  "language_info": {
   "codemirror_mode": {
    "name": "ipython",
    "version": 3
   },
   "file_extension": ".py",
   "mimetype": "text/x-python",
   "name": "python",
   "nbconvert_exporter": "python",
   "pygments_lexer": "ipython3",
   "version": "3.6.2"
  }
 },
 "nbformat": 4,
 "nbformat_minor": 2
}
